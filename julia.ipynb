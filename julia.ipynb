{
  "nbformat": 4,
  "nbformat_minor": 0,
  "metadata": {
    "colab": {
      "name": "julia.ipynb",
      "provenance": [],
      "include_colab_link": true
    },
    "kernelspec": {
      "name": "julia-1.2",
      "display_name": "Julia 1.2"
    },
    "accelerator": "GPU"
  },
  "cells": [
    {
      "cell_type": "markdown",
      "metadata": {
        "id": "view-in-github",
        "colab_type": "text"
      },
      "source": [
        "<a href=\"https://colab.research.google.com/github/muratakcs/Optimization/blob/master/julia.ipynb\" target=\"_parent\"><img src=\"https://colab.research.google.com/assets/colab-badge.svg\" alt=\"Open In Colab\"/></a>"
      ]
    },
    {
      "cell_type": "code",
      "metadata": {
        "id": "oMSuTc3pDlHv",
        "colab_type": "code",
        "colab": {}
      },
      "source": [
        "!wget https://developer.nvidia.com/compute/cuda/9.0/Prod/local_installers/cuda-repo-ubuntu1604-9-0-local_9.0.176-1_amd64-deb\n",
        "!dpkg -i cuda-repo-ubuntu1604-9-0-local_9.0.176-1_amd64-deb\n",
        "!apt-key add /var/cuda-repo-9-0-local/7fa2af80.pub\n",
        "!apt update -q\n",
        "!apt install cuda gcc-6 g++-6 -y -q\n",
        "!ln -s /usr/bin/gcc-6 /usr/local/cuda/bin/gcc\n",
        "!ln -s /usr/bin/g++-6 /usr/local/cuda/bin/g++"
      ],
      "execution_count": 0,
      "outputs": []
    },
    {
      "cell_type": "code",
      "metadata": {
        "id": "0b5rH2IUKQRp",
        "colab_type": "code",
        "colab": {}
      },
      "source": [
        "!curl -sSL \"https://julialang-s3.julialang.org/bin/linux/x64/1.2/julia-1.2.0-linux-x86_64.tar.gz\" -o julia.tar.gz\n",
        "!tar -xzf julia.tar.gz -C /usr --strip-components 1\n",
        "!rm -rf julia.tar.gz*\n",
        "!julia -e 'using Pkg; pkg\"add IJulia; precompile\"'"
      ],
      "execution_count": 0,
      "outputs": []
    },
    {
      "cell_type": "code",
      "metadata": {
        "id": "r9zMGxyeKr39",
        "colab_type": "code",
        "colab": {
          "base_uri": "https://localhost:8080/",
          "height": 85
        },
        "outputId": "cf1ac857-8ffe-4cfc-83b0-9bdfe207e449"
      },
      "source": [
        "[1,2,3]"
      ],
      "execution_count": 4,
      "outputs": [
        {
          "output_type": "execute_result",
          "data": {
            "text/plain": [
              "3-element Array{Int64,1}:\n",
              " 1\n",
              " 2\n",
              " 3"
            ]
          },
          "metadata": {
            "tags": []
          },
          "execution_count": 4
        }
      ]
    },
    {
      "cell_type": "code",
      "metadata": {
        "id": "BC2zFnxGKwIF",
        "colab_type": "code",
        "colab": {}
      },
      "source": [
        "using LinearAlgebra"
      ],
      "execution_count": 0,
      "outputs": []
    },
    {
      "cell_type": "code",
      "metadata": {
        "id": "DO4BNSOEK-xu",
        "colab_type": "code",
        "colab": {
          "base_uri": "https://localhost:8080/",
          "height": 204
        },
        "outputId": "efff1f16-5528-4c3d-8773-c11619da897e"
      },
      "source": [
        "[i + j for i in 1:10, j in 1:10]"
      ],
      "execution_count": 3,
      "outputs": [
        {
          "output_type": "execute_result",
          "data": {
            "text/plain": [
              "10×10 Array{Int64,2}:\n",
              "  2   3   4   5   6   7   8   9  10  11\n",
              "  3   4   5   6   7   8   9  10  11  12\n",
              "  4   5   6   7   8   9  10  11  12  13\n",
              "  5   6   7   8   9  10  11  12  13  14\n",
              "  6   7   8   9  10  11  12  13  14  15\n",
              "  7   8   9  10  11  12  13  14  15  16\n",
              "  8   9  10  11  12  13  14  15  16  17\n",
              "  9  10  11  12  13  14  15  16  17  18\n",
              " 10  11  12  13  14  15  16  17  18  19\n",
              " 11  12  13  14  15  16  17  18  19  20"
            ]
          },
          "metadata": {
            "tags": []
          },
          "execution_count": 3
        }
      ]
    },
    {
      "cell_type": "code",
      "metadata": {
        "id": "nFxfFlfzLJxE",
        "colab_type": "code",
        "colab": {
          "base_uri": "https://localhost:8080/",
          "height": 180
        },
        "outputId": "01158cbe-ee6d-4049-eaa2-916e4f239432"
      },
      "source": [
        "using JuMP, Clp\n",
        "\n",
        "m = Model(with_optimizer(Clp.Optimizer))\n",
        "\n",
        "@variable(m, 0 <= f <= 1000)\n",
        "@variable(m, 0 <= s <= 1500)\n",
        "@constraint(m, 4f + 2s <= 4800)\n",
        "@constraint(m, f + s <= 1750)\n",
        "@objective(m, Max, 12f + 9s)\n",
        "\n",
        "status = optimize!(m)\n",
        "\n",
        "println(\"We need to build \", value(f), \" football trophies.\")\n",
        "println(\"We need to build \", value(s), \" soccer trophies.\")\n",
        "println(\"The maximum profit possible is: \\$\", objective_value(m))"
      ],
      "execution_count": 5,
      "outputs": [
        {
          "output_type": "error",
          "ename": "ArgumentError",
          "evalue": "ignored",
          "traceback": [
            "ArgumentError: Package JuMP not found in current path:\n- Run `import Pkg; Pkg.add(\"JuMP\")` to install the JuMP package.\n",
            "",
            "Stacktrace:",
            " [1] require(::Module, ::Symbol) at ./loading.jl:876",
            " [2] top-level scope at In[5]:1"
          ]
        }
      ]
    },
    {
      "cell_type": "code",
      "metadata": {
        "id": "pQ2nm2WeUYI5",
        "colab_type": "code",
        "colab": {
          "base_uri": "https://localhost:8080/",
          "height": 646
        },
        "outputId": "c9817aec-714b-448f-b6da-30fa5ff9fb4f"
      },
      "source": [
        "import Pkg; Pkg.add(\"JuMP\")"
      ],
      "execution_count": 6,
      "outputs": [
        {
          "output_type": "stream",
          "text": [
            "\u001b[32m\u001b[1m  Updating\u001b[22m\u001b[39m registry at `~/.julia/registries/General`\n",
            "\u001b[32m\u001b[1m  Updating\u001b[22m\u001b[39m git-repo `https://github.com/JuliaRegistries/General.git`\n",
            "\u001b[2K\u001b[?25h\u001b[32m\u001b[1m Resolving\u001b[22m\u001b[39m package versions...\n",
            "\u001b[32m\u001b[1m Installed\u001b[22m\u001b[39m URIParser ──────────── v0.4.0\n",
            "\u001b[32m\u001b[1m Installed\u001b[22m\u001b[39m Calculus ───────────── v0.5.0\n",
            "\u001b[32m\u001b[1m Installed\u001b[22m\u001b[39m CommonSubexpressions ─ v0.2.0\n",
            "\u001b[32m\u001b[1m Installed\u001b[22m\u001b[39m OrderedCollections ─── v1.1.0\n",
            "\u001b[32m\u001b[1m Installed\u001b[22m\u001b[39m DiffRules ──────────── v0.1.0\n",
            "\u001b[32m\u001b[1m Installed\u001b[22m\u001b[39m DataStructures ─────── v0.17.5\n",
            "\u001b[32m\u001b[1m Installed\u001b[22m\u001b[39m ForwardDiff ────────── v0.10.3\n",
            "\u001b[32m\u001b[1m Installed\u001b[22m\u001b[39m JuMP ───────────────── v0.20.1\n",
            "\u001b[32m\u001b[1m Installed\u001b[22m\u001b[39m NaNMath ────────────── v0.3.2\n",
            "\u001b[32m\u001b[1m Installed\u001b[22m\u001b[39m BinDeps ────────────── v0.8.10\n",
            "\u001b[32m\u001b[1m Installed\u001b[22m\u001b[39m DiffResults ────────── v0.0.4\n",
            "\u001b[32m\u001b[1m Installed\u001b[22m\u001b[39m StaticArrays ───────── v0.12.0\n",
            "\u001b[32m\u001b[1m Installed\u001b[22m\u001b[39m BenchmarkTools ─────── v0.4.3\n",
            "\u001b[32m\u001b[1m Installed\u001b[22m\u001b[39m SpecialFunctions ───── v0.8.0\n",
            "\u001b[32m\u001b[1m Installed\u001b[22m\u001b[39m MathOptInterface ───── v0.9.7\n",
            "\u001b[32m\u001b[1m  Updating\u001b[22m\u001b[39m `~/.julia/environments/v1.2/Project.toml`\n",
            " \u001b[90m [4076af6c]\u001b[39m\u001b[92m + JuMP v0.20.1\u001b[39m\n",
            "\u001b[32m\u001b[1m  Updating\u001b[22m\u001b[39m `~/.julia/environments/v1.2/Manifest.toml`\n",
            " \u001b[90m [6e4b80f9]\u001b[39m\u001b[92m + BenchmarkTools v0.4.3\u001b[39m\n",
            " \u001b[90m [9e28174c]\u001b[39m\u001b[92m + BinDeps v0.8.10\u001b[39m\n",
            " \u001b[90m [49dc2e85]\u001b[39m\u001b[92m + Calculus v0.5.0\u001b[39m\n",
            " \u001b[90m [bbf7d656]\u001b[39m\u001b[92m + CommonSubexpressions v0.2.0\u001b[39m\n",
            " \u001b[90m [864edb3b]\u001b[39m\u001b[92m + DataStructures v0.17.5\u001b[39m\n",
            " \u001b[90m [163ba53b]\u001b[39m\u001b[92m + DiffResults v0.0.4\u001b[39m\n",
            " \u001b[90m [b552c78f]\u001b[39m\u001b[92m + DiffRules v0.1.0\u001b[39m\n",
            " \u001b[90m [f6369f11]\u001b[39m\u001b[92m + ForwardDiff v0.10.3\u001b[39m\n",
            " \u001b[90m [4076af6c]\u001b[39m\u001b[92m + JuMP v0.20.1\u001b[39m\n",
            " \u001b[90m [b8f27783]\u001b[39m\u001b[92m + MathOptInterface v0.9.7\u001b[39m\n",
            " \u001b[90m [77ba4419]\u001b[39m\u001b[92m + NaNMath v0.3.2\u001b[39m\n",
            " \u001b[90m [bac558e1]\u001b[39m\u001b[92m + OrderedCollections v1.1.0\u001b[39m\n",
            " \u001b[90m [276daf66]\u001b[39m\u001b[92m + SpecialFunctions v0.8.0\u001b[39m\n",
            " \u001b[90m [90137ffa]\u001b[39m\u001b[92m + StaticArrays v0.12.0\u001b[39m\n",
            " \u001b[90m [30578b45]\u001b[39m\u001b[92m + URIParser v0.4.0\u001b[39m\n",
            "\u001b[32m\u001b[1m  Building\u001b[22m\u001b[39m SpecialFunctions → `~/.julia/packages/SpecialFunctions/ne2iw/deps/build.log`\n"
          ],
          "name": "stdout"
        }
      ]
    },
    {
      "cell_type": "code",
      "metadata": {
        "id": "djTuPbAEUcF2",
        "colab_type": "code",
        "colab": {
          "base_uri": "https://localhost:8080/",
          "height": 170
        },
        "outputId": "f8d7266e-15f4-4689-ed94-febf5c072041"
      },
      "source": [
        "Pkg.add(\"Clp\")"
      ],
      "execution_count": 7,
      "outputs": [
        {
          "output_type": "stream",
          "text": [
            "\u001b[32m\u001b[1m Resolving\u001b[22m\u001b[39m package versions...\n",
            "\u001b[32m\u001b[1m Installed\u001b[22m\u001b[39m Clp ────────── v0.7.0\n",
            "\u001b[32m\u001b[1m Installed\u001b[22m\u001b[39m MathProgBase ─ v0.7.7\n",
            "\u001b[32m\u001b[1m  Updating\u001b[22m\u001b[39m `~/.julia/environments/v1.2/Project.toml`\n",
            " \u001b[90m [e2554f3b]\u001b[39m\u001b[92m + Clp v0.7.0\u001b[39m\n",
            "\u001b[32m\u001b[1m  Updating\u001b[22m\u001b[39m `~/.julia/environments/v1.2/Manifest.toml`\n",
            " \u001b[90m [e2554f3b]\u001b[39m\u001b[92m + Clp v0.7.0\u001b[39m\n",
            " \u001b[90m [fdba3010]\u001b[39m\u001b[92m + MathProgBase v0.7.7\u001b[39m\n",
            "\u001b[32m\u001b[1m  Building\u001b[22m\u001b[39m Clp → `~/.julia/packages/Clp/4DejL/deps/build.log`\n"
          ],
          "name": "stdout"
        }
      ]
    },
    {
      "cell_type": "code",
      "metadata": {
        "id": "VEwHAJpUU0W9",
        "colab_type": "code",
        "colab": {
          "base_uri": "https://localhost:8080/",
          "height": 221
        },
        "outputId": "a218422d-4b8f-4a2d-d072-f08cd603c8e5"
      },
      "source": [
        "using JuMP, Clp\n",
        "\n",
        "m = Model(with_optimizer(Clp.Optimizer))\n",
        "\n",
        "@variable(m, 0 <= f <= 1000)\n",
        "@variable(m, 0 <= s <= 1500)\n",
        "@constraint(m, 4f + 2s <= 4800)\n",
        "@constraint(m, f + s <= 1750)\n",
        "@objective(m, Max, 12f + 9s)\n",
        "\n",
        "status = optimize!(m)\n",
        "\n",
        "println(\"We need to build \", value(f), \" football trophies.\")\n",
        "println(\"We need to build \", value(s), \" soccer trophies.\")\n",
        "println(\"The maximum profit possible is: \\$\", objective_value(m))"
      ],
      "execution_count": 8,
      "outputs": [
        {
          "output_type": "stream",
          "text": [
            "┌ Info: Precompiling JuMP [4076af6c-e467-56ae-b986-b466b2749572]\n",
            "└ @ Base loading.jl:1242\n",
            "┌ Info: Precompiling Clp [e2554f3b-3117-50c0-817c-e040a3ddf72d]\n",
            "└ @ Base loading.jl:1242\n"
          ],
          "name": "stderr"
        },
        {
          "output_type": "stream",
          "text": [
            "We need to build 650.0 football trophies.\n",
            "We need to build 1100.0 soccer trophies.\n",
            "The maximum profit possible is: $17700.0\n",
            "Coin0506I Presolve 2 (0) rows, 2 (0) columns and 4 (0) elements\n",
            "Clp0006I 0  Obj 0 Dual inf 21 (2)\n",
            "Clp0006I 2  Obj 17700\n",
            "Clp0000I Optimal - objective value 17700\n",
            "Clp0032I Optimal objective 17700 - 2 iterations time 0.002\n"
          ],
          "name": "stdout"
        }
      ]
    },
    {
      "cell_type": "code",
      "metadata": {
        "id": "u5TzWA0JU_UQ",
        "colab_type": "code",
        "colab": {}
      },
      "source": [
        ""
      ],
      "execution_count": 0,
      "outputs": []
    }
  ]
}